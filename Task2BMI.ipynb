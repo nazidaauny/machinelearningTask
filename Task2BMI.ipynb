{
  "nbformat": 4,
  "nbformat_minor": 0,
  "metadata": {
    "colab": {
      "provenance": [],
      "authorship_tag": "ABX9TyOC/s7nPYONMBs7jztSlTxv",
      "include_colab_link": true
    },
    "kernelspec": {
      "name": "python3",
      "display_name": "Python 3"
    },
    "language_info": {
      "name": "python"
    }
  },
  "cells": [
    {
      "cell_type": "markdown",
      "metadata": {
        "id": "view-in-github",
        "colab_type": "text"
      },
      "source": [
        "<a href=\"https://colab.research.google.com/github/nazidaauny/machinelearningTask/blob/main/Task2BMI.ipynb\" target=\"_parent\"><img src=\"https://colab.research.google.com/assets/colab-badge.svg\" alt=\"Open In Colab\"/></a>"
      ]
    },
    {
      "cell_type": "code",
      "execution_count": null,
      "metadata": {
        "id": "pyaQ6CBFq8rz"
      },
      "outputs": [],
      "source": [
        "\n",
        "berat = float(input(\"Masukkan berat badan (kg): \"))\n",
        "tinggi = float(input(\"Masukkan tinggi badan (m): \"))\n",
        "\n",
        "if berat <= 0 or tinggi <= 0:\n",
        "    print(\"Input tidak valid, berat dan tinggi harus lebih dari 0!\")\n",
        "else:\n",
        "    bmi = berat / (tinggi ** 2)\n",
        "\n",
        "    if bmi < 18.5:\n",
        "        if bmi < 16:\n",
        "            kategori = \"Underweight (Severe Thinness)\"\n",
        "        elif bmi < 17:\n",
        "            kategori = \"Underweight (Moderate Thinness)\"\n",
        "        else:\n",
        "            kategori = \"Underweight (Mild)\"\n",
        "    elif bmi < 25:\n",
        "        kategori = \"Normal (Healthy Weight)\"\n",
        "    elif bmi < 30:\n",
        "        kategori = \"Overweight\"\n",
        "    else:\n",
        "        if bmi < 35:\n",
        "            kategori = \"Obesity Class I\"\n",
        "        elif bmi < 40:\n",
        "            kategori = \"Obesity Class II\"\n",
        "        else:\n",
        "            kategori = \"Obesity Class III (Severe)\"\n",
        "\n",
        "    print(f\"Nilai BMI: {bmi:.2f}\")\n",
        "    print(f\"Kategori : {kategori}\")\n"
      ]
    }
  ]
}